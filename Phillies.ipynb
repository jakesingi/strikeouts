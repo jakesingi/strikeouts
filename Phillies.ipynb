{
 "cells": [
  {
   "cell_type": "markdown",
   "metadata": {},
   "source": [
    "# Phillies Questionnaire"
   ]
  },
  {
   "cell_type": "code",
   "execution_count": 141,
   "metadata": {},
   "outputs": [],
   "source": [
    "import numpy as np\n",
    "import seaborn as sns\n",
    "import matplotlib.pyplot as plt\n",
    "import pandas as pd\n",
    "%matplotlib inline"
   ]
  },
  {
   "cell_type": "code",
   "execution_count": 142,
   "metadata": {},
   "outputs": [],
   "source": [
    "import warnings\n",
    "warnings.filterwarnings(\"ignore\", category=DeprecationWarning) "
   ]
  },
  {
   "cell_type": "code",
   "execution_count": 143,
   "metadata": {},
   "outputs": [],
   "source": [
    "dat = pd.read_csv('./strikeouts.csv')"
   ]
  },
  {
   "cell_type": "code",
   "execution_count": 144,
   "metadata": {},
   "outputs": [
    {
     "data": {
      "text/html": [
       "<div>\n",
       "<style scoped>\n",
       "    .dataframe tbody tr th:only-of-type {\n",
       "        vertical-align: middle;\n",
       "    }\n",
       "\n",
       "    .dataframe tbody tr th {\n",
       "        vertical-align: top;\n",
       "    }\n",
       "\n",
       "    .dataframe thead th {\n",
       "        text-align: right;\n",
       "    }\n",
       "</style>\n",
       "<table border=\"1\" class=\"dataframe\">\n",
       "  <thead>\n",
       "    <tr style=\"text-align: right;\">\n",
       "      <th></th>\n",
       "      <th>Name</th>\n",
       "      <th>Team</th>\n",
       "      <th>fangraphs_id</th>\n",
       "      <th>G</th>\n",
       "      <th>IP</th>\n",
       "      <th>ERA</th>\n",
       "      <th>FIP</th>\n",
       "      <th>xFIP</th>\n",
       "      <th>AVG</th>\n",
       "      <th>K%</th>\n",
       "      <th>BB%</th>\n",
       "      <th>Swing%</th>\n",
       "      <th>Contact%</th>\n",
       "      <th>GB%</th>\n",
       "      <th>LD%</th>\n",
       "      <th>FB%</th>\n",
       "      <th>2ndHalfK%</th>\n",
       "      <th>2ndHalfIP</th>\n",
       "    </tr>\n",
       "  </thead>\n",
       "  <tbody>\n",
       "    <tr>\n",
       "      <th>0</th>\n",
       "      <td>Clayton Kershaw</td>\n",
       "      <td>Dodgers</td>\n",
       "      <td>2036</td>\n",
       "      <td>19</td>\n",
       "      <td>132.1</td>\n",
       "      <td>2.18</td>\n",
       "      <td>3.02</td>\n",
       "      <td>2.76</td>\n",
       "      <td>0.194</td>\n",
       "      <td>0.314</td>\n",
       "      <td>0.044</td>\n",
       "      <td>0.508</td>\n",
       "      <td>0.731</td>\n",
       "      <td>0.453</td>\n",
       "      <td>0.197</td>\n",
       "      <td>0.350</td>\n",
       "      <td>0.249</td>\n",
       "      <td>42.2</td>\n",
       "    </tr>\n",
       "    <tr>\n",
       "      <th>1</th>\n",
       "      <td>Max Scherzer</td>\n",
       "      <td>Nationals</td>\n",
       "      <td>3137</td>\n",
       "      <td>18</td>\n",
       "      <td>128.1</td>\n",
       "      <td>2.10</td>\n",
       "      <td>2.62</td>\n",
       "      <td>3.08</td>\n",
       "      <td>0.162</td>\n",
       "      <td>0.355</td>\n",
       "      <td>0.055</td>\n",
       "      <td>0.519</td>\n",
       "      <td>0.692</td>\n",
       "      <td>0.387</td>\n",
       "      <td>0.146</td>\n",
       "      <td>0.467</td>\n",
       "      <td>0.324</td>\n",
       "      <td>72.1</td>\n",
       "    </tr>\n",
       "    <tr>\n",
       "      <th>2</th>\n",
       "      <td>Chris Sale</td>\n",
       "      <td>Red Sox</td>\n",
       "      <td>10603</td>\n",
       "      <td>18</td>\n",
       "      <td>127.2</td>\n",
       "      <td>2.75</td>\n",
       "      <td>2.10</td>\n",
       "      <td>2.67</td>\n",
       "      <td>0.198</td>\n",
       "      <td>0.359</td>\n",
       "      <td>0.044</td>\n",
       "      <td>0.513</td>\n",
       "      <td>0.684</td>\n",
       "      <td>0.363</td>\n",
       "      <td>0.218</td>\n",
       "      <td>0.419</td>\n",
       "      <td>0.366</td>\n",
       "      <td>86.2</td>\n",
       "    </tr>\n",
       "    <tr>\n",
       "      <th>3</th>\n",
       "      <td>Chris Archer</td>\n",
       "      <td>Rays</td>\n",
       "      <td>6345</td>\n",
       "      <td>19</td>\n",
       "      <td>123.0</td>\n",
       "      <td>3.95</td>\n",
       "      <td>3.17</td>\n",
       "      <td>3.44</td>\n",
       "      <td>0.245</td>\n",
       "      <td>0.285</td>\n",
       "      <td>0.074</td>\n",
       "      <td>0.469</td>\n",
       "      <td>0.719</td>\n",
       "      <td>0.422</td>\n",
       "      <td>0.224</td>\n",
       "      <td>0.354</td>\n",
       "      <td>0.303</td>\n",
       "      <td>78.0</td>\n",
       "    </tr>\n",
       "    <tr>\n",
       "      <th>4</th>\n",
       "      <td>Ivan Nova</td>\n",
       "      <td>Pirates</td>\n",
       "      <td>1994</td>\n",
       "      <td>18</td>\n",
       "      <td>120.2</td>\n",
       "      <td>3.21</td>\n",
       "      <td>4.14</td>\n",
       "      <td>4.17</td>\n",
       "      <td>0.252</td>\n",
       "      <td>0.139</td>\n",
       "      <td>0.031</td>\n",
       "      <td>0.495</td>\n",
       "      <td>0.849</td>\n",
       "      <td>0.479</td>\n",
       "      <td>0.228</td>\n",
       "      <td>0.293</td>\n",
       "      <td>0.212</td>\n",
       "      <td>66.1</td>\n",
       "    </tr>\n",
       "  </tbody>\n",
       "</table>\n",
       "</div>"
      ],
      "text/plain": [
       "              Name       Team  fangraphs_id   G     IP   ERA   FIP  xFIP  \\\n",
       "0  Clayton Kershaw    Dodgers          2036  19  132.1  2.18  3.02  2.76   \n",
       "1     Max Scherzer  Nationals          3137  18  128.1  2.10  2.62  3.08   \n",
       "2       Chris Sale    Red Sox         10603  18  127.2  2.75  2.10  2.67   \n",
       "3     Chris Archer       Rays          6345  19  123.0  3.95  3.17  3.44   \n",
       "4        Ivan Nova    Pirates          1994  18  120.2  3.21  4.14  4.17   \n",
       "\n",
       "     AVG     K%    BB%  Swing%  Contact%    GB%    LD%    FB%  2ndHalfK%  \\\n",
       "0  0.194  0.314  0.044   0.508     0.731  0.453  0.197  0.350      0.249   \n",
       "1  0.162  0.355  0.055   0.519     0.692  0.387  0.146  0.467      0.324   \n",
       "2  0.198  0.359  0.044   0.513     0.684  0.363  0.218  0.419      0.366   \n",
       "3  0.245  0.285  0.074   0.469     0.719  0.422  0.224  0.354      0.303   \n",
       "4  0.252  0.139  0.031   0.495     0.849  0.479  0.228  0.293      0.212   \n",
       "\n",
       "   2ndHalfIP  \n",
       "0       42.2  \n",
       "1       72.1  \n",
       "2       86.2  \n",
       "3       78.0  \n",
       "4       66.1  "
      ]
     },
     "execution_count": 144,
     "metadata": {},
     "output_type": "execute_result"
    }
   ],
   "source": [
    "dat.head()"
   ]
  },
  {
   "cell_type": "code",
   "execution_count": 145,
   "metadata": {},
   "outputs": [
    {
     "data": {
      "text/plain": [
       "(296, 18)"
      ]
     },
     "execution_count": 145,
     "metadata": {},
     "output_type": "execute_result"
    }
   ],
   "source": [
    "dat.shape"
   ]
  },
  {
   "cell_type": "code",
   "execution_count": 146,
   "metadata": {},
   "outputs": [
    {
     "data": {
      "text/plain": [
       "(296, 15)"
      ]
     },
     "execution_count": 146,
     "metadata": {},
     "output_type": "execute_result"
    }
   ],
   "source": [
    "# We drop name and team because we can simply use fangraphs_id to identify each player\n",
    "features = dat.drop(['Name', 'Team', 'fangraphs_id'], axis = 1)\n",
    "features.shape"
   ]
  },
  {
   "cell_type": "code",
   "execution_count": 147,
   "metadata": {},
   "outputs": [],
   "source": [
    "# Labels are the values we want to predict\n",
    "labels = np.array(features['2ndHalfK%'])\n",
    "\n",
    "features = features.drop('2ndHalfK%', axis = 1)\n",
    "\n",
    "# Saving feature names for later use\n",
    "feature_list = list(features.columns)\n",
    "\n",
    "features = np.array(features)"
   ]
  },
  {
   "cell_type": "code",
   "execution_count": 148,
   "metadata": {},
   "outputs": [],
   "source": [
    "from sklearn.model_selection import train_test_split\n",
    "\n",
    "# Split the data into training and testing sets\n",
    "train_features, test_features, train_labels, test_labels = train_test_split(features, labels, test_size = 0.25,\n",
    "                                                                           random_state = 42)"
   ]
  },
  {
   "cell_type": "code",
   "execution_count": 149,
   "metadata": {},
   "outputs": [
    {
     "name": "stdout",
     "output_type": "stream",
     "text": [
      "Average baseline error:  0.039 percent.\n"
     ]
    }
   ],
   "source": [
    "# The baseline predictions are first half K%'s\n",
    "baseline_preds = test_features[:, feature_list.index('K%')]\n",
    "\n",
    "# Baseline errors, and display average baseline error\n",
    "baseline_errors = abs(baseline_preds - test_labels)\n",
    "print('Average baseline error: ', round(np.mean(baseline_errors), 3), 'percent.')"
   ]
  },
  {
   "cell_type": "code",
   "execution_count": 150,
   "metadata": {},
   "outputs": [],
   "source": [
    "from sklearn.ensemble import RandomForestRegressor\n",
    "\n",
    "rf = RandomForestRegressor(n_estimators=1000, random_state=42)\n",
    "\n",
    "# Train the model on training data\n",
    "rf.fit(train_features, train_labels);"
   ]
  },
  {
   "cell_type": "code",
   "execution_count": 151,
   "metadata": {},
   "outputs": [
    {
     "name": "stdout",
     "output_type": "stream",
     "text": [
      "Mean Absolute Error: 0.041 percent.\n"
     ]
    }
   ],
   "source": [
    "# Make predictions with the test data\n",
    "predictions = rf.predict(test_features)\n",
    "\n",
    "# Calculate the absolute errors\n",
    "errors = abs(predictions - test_labels)\n",
    "\n",
    "# Print out the mean absolute error (mae)\n",
    "print('Mean Absolute Error:', round(np.mean(errors), 3), 'percent.')\n",
    "\n",
    "# Plot predicted vs true prices\n",
    "#plt.scatter(Y_test, Y_pred, alpha=0.5)\n",
    "#plt.xlabel(\"2nd Half K%\")\n",
    "#plt.ylabel(\"Predicted 2nd Half K%\")\n",
    "#plt.title(\"Predicted 2nd Half K% vs. 2nd Half K%\");"
   ]
  },
  {
   "cell_type": "code",
   "execution_count": 152,
   "metadata": {
    "scrolled": true
   },
   "outputs": [
    {
     "name": "stdout",
     "output_type": "stream",
     "text": [
      "Accuracy: 80.748 %.\n"
     ]
    }
   ],
   "source": [
    "# Calculate mean absolute percentage error (MAPE)\n",
    "mape = 100 * (errors / test_labels)\n",
    "\n",
    "# Calculate and display accuracy\n",
    "accuracy = 100 - np.mean(mape)\n",
    "print('Accuracy:', round(accuracy, 3), '%.')"
   ]
  },
  {
   "cell_type": "markdown",
   "metadata": {},
   "source": [
    "## Variable Importances"
   ]
  },
  {
   "cell_type": "code",
   "execution_count": 153,
   "metadata": {},
   "outputs": [
    {
     "name": "stdout",
     "output_type": "stream",
     "text": [
      "Variable: K%                   Importance: 0.43\n",
      "Variable: Contact%             Importance: 0.14\n",
      "Variable: LD%                  Importance: 0.05\n",
      "Variable: BB%                  Importance: 0.04\n",
      "Variable: GB%                  Importance: 0.04\n",
      "Variable: FB%                  Importance: 0.04\n",
      "Variable: 2ndHalfIP            Importance: 0.04\n",
      "Variable: G                    Importance: 0.03\n",
      "Variable: FIP                  Importance: 0.03\n",
      "Variable: xFIP                 Importance: 0.03\n",
      "Variable: AVG                  Importance: 0.03\n",
      "Variable: Swing%               Importance: 0.03\n",
      "Variable: IP                   Importance: 0.02\n",
      "Variable: ERA                  Importance: 0.02\n"
     ]
    }
   ],
   "source": [
    "# Get numerical feature importances\n",
    "importances = list(rf.feature_importances_)\n",
    "\n",
    "# List of tuples with variable and importance\n",
    "feature_importances = [(feature, round(importance, 2)) for feature, importance in zip(feature_list, importances)]\n",
    "\n",
    "# Sort the feature importances by most important first\n",
    "feature_importances = sorted(feature_importances, key = lambda x: x[1], reverse = True)\n",
    "\n",
    "# Print out the feature and importances \n",
    "[print('Variable: {:20} Importance: {}'.format(*pair)) for pair in feature_importances];"
   ]
  },
  {
   "cell_type": "markdown",
   "metadata": {},
   "source": [
    "## Using 2 most important features"
   ]
  },
  {
   "cell_type": "code",
   "execution_count": 154,
   "metadata": {},
   "outputs": [
    {
     "name": "stdout",
     "output_type": "stream",
     "text": [
      "Mean Absolute Error: 0.044 percent.\n",
      "Accuracy: 79.39 %.\n"
     ]
    }
   ],
   "source": [
    "# New random forest with only the two most important variables\n",
    "rf_most_important = RandomForestRegressor(n_estimators= 1000, random_state=42)\n",
    "\n",
    "# Extract the two most important features\n",
    "important_indices = [feature_list.index('K%'), feature_list.index('Contact%'), feature_list.index('LD%'),\n",
    "                    feature_list.index('BB%'), feature_list.index('GB%'), feature_list.index('FB%')]\n",
    "train_important = train_features[:, important_indices]\n",
    "test_important = test_features[:, important_indices]\n",
    "\n",
    "# Train the random forest\n",
    "rf_most_important.fit(train_important, train_labels)\n",
    "\n",
    "# Make predictions and determine the error\n",
    "predictions = rf_most_important.predict(test_important)\n",
    "\n",
    "errors = abs(predictions - test_labels)\n",
    "\n",
    "# Display the performance metrics\n",
    "print('Mean Absolute Error:', round(np.mean(errors), 3), 'percent.')\n",
    "\n",
    "mape = np.mean(100 * (errors / test_labels))\n",
    "accuracy = 100 - mape\n",
    "\n",
    "print('Accuracy:', round(accuracy, 2), '%.')"
   ]
  }
 ],
 "metadata": {
  "kernelspec": {
   "display_name": "Python (conda)",
   "language": "python",
   "name": "myenv"
  },
  "language_info": {
   "codemirror_mode": {
    "name": "ipython",
    "version": 3
   },
   "file_extension": ".py",
   "mimetype": "text/x-python",
   "name": "python",
   "nbconvert_exporter": "python",
   "pygments_lexer": "ipython3",
   "version": "3.7.0"
  }
 },
 "nbformat": 4,
 "nbformat_minor": 2
}
