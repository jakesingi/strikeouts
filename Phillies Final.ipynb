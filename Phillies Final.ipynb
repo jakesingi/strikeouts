{
 "cells": [
  {
   "cell_type": "markdown",
   "metadata": {},
   "source": [
    "Author: Jake Singleton"
   ]
  },
  {
   "cell_type": "markdown",
   "metadata": {},
   "source": [
    "# Goal:\n",
    "Predict each player’s strikeout percentage in the second half of the 2017 season given his pitching statistics in the first half of 2017."
   ]
  },
  {
   "cell_type": "code",
   "execution_count": 1,
   "metadata": {},
   "outputs": [],
   "source": [
    "import numpy as np\n",
    "import seaborn as sns\n",
    "import matplotlib.pyplot as plt\n",
    "import pandas as pd\n",
    "%matplotlib inline"
   ]
  },
  {
   "cell_type": "markdown",
   "metadata": {},
   "source": [
    "## We begin with Exploratory Data Analysis"
   ]
  },
  {
   "cell_type": "code",
   "execution_count": 2,
   "metadata": {
    "scrolled": true
   },
   "outputs": [
    {
     "data": {
      "text/html": [
       "<div>\n",
       "<style scoped>\n",
       "    .dataframe tbody tr th:only-of-type {\n",
       "        vertical-align: middle;\n",
       "    }\n",
       "\n",
       "    .dataframe tbody tr th {\n",
       "        vertical-align: top;\n",
       "    }\n",
       "\n",
       "    .dataframe thead th {\n",
       "        text-align: right;\n",
       "    }\n",
       "</style>\n",
       "<table border=\"1\" class=\"dataframe\">\n",
       "  <thead>\n",
       "    <tr style=\"text-align: right;\">\n",
       "      <th></th>\n",
       "      <th>Name</th>\n",
       "      <th>Team</th>\n",
       "      <th>fangraphs_id</th>\n",
       "      <th>G</th>\n",
       "      <th>IP</th>\n",
       "      <th>ERA</th>\n",
       "      <th>FIP</th>\n",
       "      <th>xFIP</th>\n",
       "      <th>AVG</th>\n",
       "      <th>K%</th>\n",
       "      <th>BB%</th>\n",
       "      <th>Swing%</th>\n",
       "      <th>Contact%</th>\n",
       "      <th>GB%</th>\n",
       "      <th>LD%</th>\n",
       "      <th>FB%</th>\n",
       "      <th>2ndHalfK%</th>\n",
       "      <th>2ndHalfIP</th>\n",
       "    </tr>\n",
       "  </thead>\n",
       "  <tbody>\n",
       "    <tr>\n",
       "      <th>0</th>\n",
       "      <td>Clayton Kershaw</td>\n",
       "      <td>Dodgers</td>\n",
       "      <td>2036</td>\n",
       "      <td>19</td>\n",
       "      <td>132.1</td>\n",
       "      <td>2.18</td>\n",
       "      <td>3.02</td>\n",
       "      <td>2.76</td>\n",
       "      <td>0.194</td>\n",
       "      <td>0.314</td>\n",
       "      <td>0.044</td>\n",
       "      <td>0.508</td>\n",
       "      <td>0.731</td>\n",
       "      <td>0.453</td>\n",
       "      <td>0.197</td>\n",
       "      <td>0.350</td>\n",
       "      <td>0.249</td>\n",
       "      <td>42.2</td>\n",
       "    </tr>\n",
       "    <tr>\n",
       "      <th>1</th>\n",
       "      <td>Max Scherzer</td>\n",
       "      <td>Nationals</td>\n",
       "      <td>3137</td>\n",
       "      <td>18</td>\n",
       "      <td>128.1</td>\n",
       "      <td>2.10</td>\n",
       "      <td>2.62</td>\n",
       "      <td>3.08</td>\n",
       "      <td>0.162</td>\n",
       "      <td>0.355</td>\n",
       "      <td>0.055</td>\n",
       "      <td>0.519</td>\n",
       "      <td>0.692</td>\n",
       "      <td>0.387</td>\n",
       "      <td>0.146</td>\n",
       "      <td>0.467</td>\n",
       "      <td>0.324</td>\n",
       "      <td>72.1</td>\n",
       "    </tr>\n",
       "    <tr>\n",
       "      <th>2</th>\n",
       "      <td>Chris Sale</td>\n",
       "      <td>Red Sox</td>\n",
       "      <td>10603</td>\n",
       "      <td>18</td>\n",
       "      <td>127.2</td>\n",
       "      <td>2.75</td>\n",
       "      <td>2.10</td>\n",
       "      <td>2.67</td>\n",
       "      <td>0.198</td>\n",
       "      <td>0.359</td>\n",
       "      <td>0.044</td>\n",
       "      <td>0.513</td>\n",
       "      <td>0.684</td>\n",
       "      <td>0.363</td>\n",
       "      <td>0.218</td>\n",
       "      <td>0.419</td>\n",
       "      <td>0.366</td>\n",
       "      <td>86.2</td>\n",
       "    </tr>\n",
       "    <tr>\n",
       "      <th>3</th>\n",
       "      <td>Chris Archer</td>\n",
       "      <td>Rays</td>\n",
       "      <td>6345</td>\n",
       "      <td>19</td>\n",
       "      <td>123.0</td>\n",
       "      <td>3.95</td>\n",
       "      <td>3.17</td>\n",
       "      <td>3.44</td>\n",
       "      <td>0.245</td>\n",
       "      <td>0.285</td>\n",
       "      <td>0.074</td>\n",
       "      <td>0.469</td>\n",
       "      <td>0.719</td>\n",
       "      <td>0.422</td>\n",
       "      <td>0.224</td>\n",
       "      <td>0.354</td>\n",
       "      <td>0.303</td>\n",
       "      <td>78.0</td>\n",
       "    </tr>\n",
       "    <tr>\n",
       "      <th>4</th>\n",
       "      <td>Ivan Nova</td>\n",
       "      <td>Pirates</td>\n",
       "      <td>1994</td>\n",
       "      <td>18</td>\n",
       "      <td>120.2</td>\n",
       "      <td>3.21</td>\n",
       "      <td>4.14</td>\n",
       "      <td>4.17</td>\n",
       "      <td>0.252</td>\n",
       "      <td>0.139</td>\n",
       "      <td>0.031</td>\n",
       "      <td>0.495</td>\n",
       "      <td>0.849</td>\n",
       "      <td>0.479</td>\n",
       "      <td>0.228</td>\n",
       "      <td>0.293</td>\n",
       "      <td>0.212</td>\n",
       "      <td>66.1</td>\n",
       "    </tr>\n",
       "  </tbody>\n",
       "</table>\n",
       "</div>"
      ],
      "text/plain": [
       "              Name       Team  fangraphs_id   G     IP   ERA   FIP  xFIP  \\\n",
       "0  Clayton Kershaw    Dodgers          2036  19  132.1  2.18  3.02  2.76   \n",
       "1     Max Scherzer  Nationals          3137  18  128.1  2.10  2.62  3.08   \n",
       "2       Chris Sale    Red Sox         10603  18  127.2  2.75  2.10  2.67   \n",
       "3     Chris Archer       Rays          6345  19  123.0  3.95  3.17  3.44   \n",
       "4        Ivan Nova    Pirates          1994  18  120.2  3.21  4.14  4.17   \n",
       "\n",
       "     AVG     K%    BB%  Swing%  Contact%    GB%    LD%    FB%  2ndHalfK%  \\\n",
       "0  0.194  0.314  0.044   0.508     0.731  0.453  0.197  0.350      0.249   \n",
       "1  0.162  0.355  0.055   0.519     0.692  0.387  0.146  0.467      0.324   \n",
       "2  0.198  0.359  0.044   0.513     0.684  0.363  0.218  0.419      0.366   \n",
       "3  0.245  0.285  0.074   0.469     0.719  0.422  0.224  0.354      0.303   \n",
       "4  0.252  0.139  0.031   0.495     0.849  0.479  0.228  0.293      0.212   \n",
       "\n",
       "   2ndHalfIP  \n",
       "0       42.2  \n",
       "1       72.1  \n",
       "2       86.2  \n",
       "3       78.0  \n",
       "4       66.1  "
      ]
     },
     "execution_count": 2,
     "metadata": {},
     "output_type": "execute_result"
    }
   ],
   "source": [
    "dat = pd.read_csv('./strikeouts.csv')\n",
    "dat.head()"
   ]
  },
  {
   "cell_type": "code",
   "execution_count": 3,
   "metadata": {},
   "outputs": [
    {
     "data": {
      "text/html": [
       "<div>\n",
       "<style scoped>\n",
       "    .dataframe tbody tr th:only-of-type {\n",
       "        vertical-align: middle;\n",
       "    }\n",
       "\n",
       "    .dataframe tbody tr th {\n",
       "        vertical-align: top;\n",
       "    }\n",
       "\n",
       "    .dataframe thead th {\n",
       "        text-align: right;\n",
       "    }\n",
       "</style>\n",
       "<table border=\"1\" class=\"dataframe\">\n",
       "  <thead>\n",
       "    <tr style=\"text-align: right;\">\n",
       "      <th></th>\n",
       "      <th>fangraphs_id</th>\n",
       "      <th>G</th>\n",
       "      <th>IP</th>\n",
       "      <th>ERA</th>\n",
       "      <th>FIP</th>\n",
       "      <th>xFIP</th>\n",
       "      <th>AVG</th>\n",
       "      <th>K%</th>\n",
       "      <th>BB%</th>\n",
       "      <th>Swing%</th>\n",
       "      <th>Contact%</th>\n",
       "      <th>GB%</th>\n",
       "      <th>LD%</th>\n",
       "      <th>FB%</th>\n",
       "      <th>2ndHalfK%</th>\n",
       "      <th>2ndHalfIP</th>\n",
       "    </tr>\n",
       "  </thead>\n",
       "  <tbody>\n",
       "    <tr>\n",
       "      <th>count</th>\n",
       "      <td>296.000000</td>\n",
       "      <td>296.000000</td>\n",
       "      <td>296.000000</td>\n",
       "      <td>296.000000</td>\n",
       "      <td>296.000000</td>\n",
       "      <td>296.000000</td>\n",
       "      <td>296.000000</td>\n",
       "      <td>296.000000</td>\n",
       "      <td>296.000000</td>\n",
       "      <td>296.000000</td>\n",
       "      <td>296.000000</td>\n",
       "      <td>296.000000</td>\n",
       "      <td>296.000000</td>\n",
       "      <td>296.000000</td>\n",
       "      <td>296.000000</td>\n",
       "      <td>296.000000</td>\n",
       "    </tr>\n",
       "    <tr>\n",
       "      <th>mean</th>\n",
       "      <td>9189.635135</td>\n",
       "      <td>24.429054</td>\n",
       "      <td>60.499662</td>\n",
       "      <td>3.946791</td>\n",
       "      <td>4.099831</td>\n",
       "      <td>4.180203</td>\n",
       "      <td>0.239108</td>\n",
       "      <td>0.229264</td>\n",
       "      <td>0.083554</td>\n",
       "      <td>0.467956</td>\n",
       "      <td>0.768922</td>\n",
       "      <td>0.448557</td>\n",
       "      <td>0.198003</td>\n",
       "      <td>0.353463</td>\n",
       "      <td>0.225490</td>\n",
       "      <td>45.620946</td>\n",
       "    </tr>\n",
       "    <tr>\n",
       "      <th>std</th>\n",
       "      <td>4537.266935</td>\n",
       "      <td>11.280779</td>\n",
       "      <td>29.000082</td>\n",
       "      <td>1.378712</td>\n",
       "      <td>1.116321</td>\n",
       "      <td>0.828652</td>\n",
       "      <td>0.041719</td>\n",
       "      <td>0.064831</td>\n",
       "      <td>0.025188</td>\n",
       "      <td>0.034104</td>\n",
       "      <td>0.054050</td>\n",
       "      <td>0.081610</td>\n",
       "      <td>0.033911</td>\n",
       "      <td>0.081118</td>\n",
       "      <td>0.066184</td>\n",
       "      <td>24.837653</td>\n",
       "    </tr>\n",
       "    <tr>\n",
       "      <th>min</th>\n",
       "      <td>18.000000</td>\n",
       "      <td>6.000000</td>\n",
       "      <td>30.000000</td>\n",
       "      <td>0.760000</td>\n",
       "      <td>0.790000</td>\n",
       "      <td>1.240000</td>\n",
       "      <td>0.110000</td>\n",
       "      <td>0.094000</td>\n",
       "      <td>0.015000</td>\n",
       "      <td>0.348000</td>\n",
       "      <td>0.590000</td>\n",
       "      <td>0.267000</td>\n",
       "      <td>0.081000</td>\n",
       "      <td>0.111000</td>\n",
       "      <td>0.060000</td>\n",
       "      <td>10.000000</td>\n",
       "    </tr>\n",
       "    <tr>\n",
       "      <th>25%</th>\n",
       "      <td>5223.250000</td>\n",
       "      <td>16.000000</td>\n",
       "      <td>35.200000</td>\n",
       "      <td>2.937500</td>\n",
       "      <td>3.407500</td>\n",
       "      <td>3.690000</td>\n",
       "      <td>0.209750</td>\n",
       "      <td>0.183750</td>\n",
       "      <td>0.066000</td>\n",
       "      <td>0.445000</td>\n",
       "      <td>0.732750</td>\n",
       "      <td>0.394000</td>\n",
       "      <td>0.176000</td>\n",
       "      <td>0.302750</td>\n",
       "      <td>0.182750</td>\n",
       "      <td>25.200000</td>\n",
       "    </tr>\n",
       "    <tr>\n",
       "      <th>50%</th>\n",
       "      <td>9445.000000</td>\n",
       "      <td>18.500000</td>\n",
       "      <td>46.050000</td>\n",
       "      <td>3.825000</td>\n",
       "      <td>4.065000</td>\n",
       "      <td>4.225000</td>\n",
       "      <td>0.242500</td>\n",
       "      <td>0.217000</td>\n",
       "      <td>0.082000</td>\n",
       "      <td>0.469000</td>\n",
       "      <td>0.772500</td>\n",
       "      <td>0.445500</td>\n",
       "      <td>0.198500</td>\n",
       "      <td>0.354000</td>\n",
       "      <td>0.217000</td>\n",
       "      <td>35.150000</td>\n",
       "    </tr>\n",
       "    <tr>\n",
       "      <th>75%</th>\n",
       "      <td>13134.750000</td>\n",
       "      <td>36.000000</td>\n",
       "      <td>85.400000</td>\n",
       "      <td>4.792500</td>\n",
       "      <td>4.812500</td>\n",
       "      <td>4.742500</td>\n",
       "      <td>0.264000</td>\n",
       "      <td>0.271250</td>\n",
       "      <td>0.100000</td>\n",
       "      <td>0.490000</td>\n",
       "      <td>0.810000</td>\n",
       "      <td>0.493000</td>\n",
       "      <td>0.220000</td>\n",
       "      <td>0.410000</td>\n",
       "      <td>0.266250</td>\n",
       "      <td>68.125000</td>\n",
       "    </tr>\n",
       "    <tr>\n",
       "      <th>max</th>\n",
       "      <td>18815.000000</td>\n",
       "      <td>44.000000</td>\n",
       "      <td>132.100000</td>\n",
       "      <td>8.140000</td>\n",
       "      <td>7.830000</td>\n",
       "      <td>6.110000</td>\n",
       "      <td>0.359000</td>\n",
       "      <td>0.508000</td>\n",
       "      <td>0.160000</td>\n",
       "      <td>0.576000</td>\n",
       "      <td>0.892000</td>\n",
       "      <td>0.756000</td>\n",
       "      <td>0.298000</td>\n",
       "      <td>0.580000</td>\n",
       "      <td>0.483000</td>\n",
       "      <td>110.100000</td>\n",
       "    </tr>\n",
       "  </tbody>\n",
       "</table>\n",
       "</div>"
      ],
      "text/plain": [
       "       fangraphs_id           G          IP         ERA         FIP  \\\n",
       "count    296.000000  296.000000  296.000000  296.000000  296.000000   \n",
       "mean    9189.635135   24.429054   60.499662    3.946791    4.099831   \n",
       "std     4537.266935   11.280779   29.000082    1.378712    1.116321   \n",
       "min       18.000000    6.000000   30.000000    0.760000    0.790000   \n",
       "25%     5223.250000   16.000000   35.200000    2.937500    3.407500   \n",
       "50%     9445.000000   18.500000   46.050000    3.825000    4.065000   \n",
       "75%    13134.750000   36.000000   85.400000    4.792500    4.812500   \n",
       "max    18815.000000   44.000000  132.100000    8.140000    7.830000   \n",
       "\n",
       "             xFIP         AVG          K%         BB%      Swing%    Contact%  \\\n",
       "count  296.000000  296.000000  296.000000  296.000000  296.000000  296.000000   \n",
       "mean     4.180203    0.239108    0.229264    0.083554    0.467956    0.768922   \n",
       "std      0.828652    0.041719    0.064831    0.025188    0.034104    0.054050   \n",
       "min      1.240000    0.110000    0.094000    0.015000    0.348000    0.590000   \n",
       "25%      3.690000    0.209750    0.183750    0.066000    0.445000    0.732750   \n",
       "50%      4.225000    0.242500    0.217000    0.082000    0.469000    0.772500   \n",
       "75%      4.742500    0.264000    0.271250    0.100000    0.490000    0.810000   \n",
       "max      6.110000    0.359000    0.508000    0.160000    0.576000    0.892000   \n",
       "\n",
       "              GB%         LD%         FB%   2ndHalfK%   2ndHalfIP  \n",
       "count  296.000000  296.000000  296.000000  296.000000  296.000000  \n",
       "mean     0.448557    0.198003    0.353463    0.225490   45.620946  \n",
       "std      0.081610    0.033911    0.081118    0.066184   24.837653  \n",
       "min      0.267000    0.081000    0.111000    0.060000   10.000000  \n",
       "25%      0.394000    0.176000    0.302750    0.182750   25.200000  \n",
       "50%      0.445500    0.198500    0.354000    0.217000   35.150000  \n",
       "75%      0.493000    0.220000    0.410000    0.266250   68.125000  \n",
       "max      0.756000    0.298000    0.580000    0.483000  110.100000  "
      ]
     },
     "execution_count": 3,
     "metadata": {},
     "output_type": "execute_result"
    }
   ],
   "source": [
    "dat.describe()"
   ]
  },
  {
   "cell_type": "code",
   "execution_count": 4,
   "metadata": {},
   "outputs": [
    {
     "data": {
      "text/plain": [
       "(296, 18)"
      ]
     },
     "execution_count": 4,
     "metadata": {},
     "output_type": "execute_result"
    }
   ],
   "source": [
    "dat.shape"
   ]
  },
  {
   "cell_type": "code",
   "execution_count": 5,
   "metadata": {
    "scrolled": true
   },
   "outputs": [
    {
     "data": {
      "image/png": "[encoded data removed]",
      "text/plain": [
       "<Figure size 432x288 with 1 Axes>"
      ]
     },
     "metadata": {
      "needs_background": "light"
     },
     "output_type": "display_data"
    }
   ],
   "source": [
    "# We expect a positive linear relationship here, which we see.\n",
    "sns.scatterplot(x='K%', y='2ndHalfK%', data=dat, alpha=0.8)\n",
    "plt.title('2ndHalfK% vs. K%');"
   ]
  },
  {
   "cell_type": "code",
   "execution_count": 6,
   "metadata": {},
   "outputs": [
    {
     "data": {
      "image/png": "[encoded data removed]",
      "text/plain": [
       "<Figure size 432x288 with 1 Axes>"
      ]
     },
     "metadata": {
      "needs_background": "light"
     },
     "output_type": "display_data"
    }
   ],
   "source": [
    "# We expect a negative linear relationship here, which we see.\n",
    "sns.scatterplot(x='Contact%', y='2ndHalfK%', data=dat, alpha=0.8)\n",
    "plt.title('2ndHalfK% vs. Contact%');"
   ]
  },
  {
   "cell_type": "markdown",
   "metadata": {},
   "source": [
    "## Modeling\n",
    "The data looks good from initial inspection, so we can begin the featurization and modeling process.\n",
    "\n",
    "We will use a linear model here since from our initial inspection above, a linear model might do a good job. I will try both simple linear regression and Lasso regularization. If linear regression gives good results, we will then go through cross validation for feature selection. If Lasso is the best choice, it will have already chosen our features for us."
   ]
  },
  {
   "cell_type": "code",
   "execution_count": 7,
   "metadata": {},
   "outputs": [
    {
     "data": {
      "text/plain": [
       "(296, 15)"
      ]
     },
     "execution_count": 7,
     "metadata": {},
     "output_type": "execute_result"
    }
   ],
   "source": [
    "# We drop categorical data\n",
    "features = dat.drop(['Name', 'Team', 'fangraphs_id'], axis = 1)\n",
    "features.shape"
   ]
  },
  {
   "cell_type": "code",
   "execution_count": 8,
   "metadata": {},
   "outputs": [],
   "source": [
    "# Labels are the values we want to predict\n",
    "labels = pd.Series(features['2ndHalfK%'])\n",
    "\n",
    "features = features.drop('2ndHalfK%', axis = 1)"
   ]
  },
  {
   "cell_type": "code",
   "execution_count": 9,
   "metadata": {},
   "outputs": [],
   "source": [
    "from sklearn.model_selection import train_test_split\n",
    "\n",
    "# Split the data into training and testing sets\n",
    "train_features, test_features, train_labels, test_labels = train_test_split(features, labels, test_size = 0.25,\n",
    "                                                                           random_state = 42)"
   ]
  },
  {
   "cell_type": "code",
   "execution_count": 10,
   "metadata": {},
   "outputs": [
    {
     "name": "stdout",
     "output_type": "stream",
     "text": [
      "Training score: 0.0\n",
      "Testing score: -0.024469418169262402\n",
      "Coefficients used: [ 0. -0. -0. -0. -0. -0.  0.  0.  0. -0. -0.  0.  0. -0.]\n",
      "Training score: 0.060744418478115514\n",
      "Testing score: 0.019754298162873662\n",
      "Coefficients used: [ 0.00082673 -0.         -0.         -0.         -0.         -0.\n",
      "  0.          0.          0.         -0.         -0.          0.\n",
      "  0.          0.        ]\n",
      "Training score: 0.21912615362307986\n",
      "Testing score: 0.2121656950439802\n",
      "Coefficients used: [ 1.19905660e-03 -1.48946015e-05 -7.12528994e-04 -6.88750419e-03\n",
      " -9.72038031e-03 -0.00000000e+00  0.00000000e+00  0.00000000e+00\n",
      "  0.00000000e+00 -0.00000000e+00 -0.00000000e+00  0.00000000e+00\n",
      "  0.00000000e+00  1.91793448e-04]\n",
      "Training score: 0.3335375261108782\n",
      "Testing score: 0.3641260545497302\n",
      "Coefficients used: [ 0.00081105 -0.00012732 -0.00301904 -0.0021858  -0.03142606 -0.\n",
      "  0.          0.         -0.         -0.         -0.11170019  0.\n",
      "  0.          0.00031106]\n",
      "Training score: 0.4813848829948776\n",
      "Testing score: 0.5117107564443446\n",
      "Coefficients used: [ 4.70356946e-04 -6.47456485e-05 -2.46240818e-03  1.28666516e-03\n",
      "  0.00000000e+00 -0.00000000e+00  5.00388681e-01  6.74234102e-02\n",
      "  0.00000000e+00 -1.50695751e-01 -4.91359976e-02  1.05103482e-01\n",
      " -0.00000000e+00  3.96429804e-04]\n",
      "0.5023316280078315\n",
      "0.5388402716670704\n"
     ]
    }
   ],
   "source": [
    "import sklearn.linear_model as lm\n",
    "\n",
    "# Fit the classifiers\n",
    "linear_model = lm.LinearRegression()\n",
    "linear_model.fit(train_features, train_labels)\n",
    "\n",
    "# Seeing what Lasso gives for various values of lambda. I am interested in Lasso because it seems many of the\n",
    "# features may not be useful, making me think Lasso could eliminate some of these.\n",
    "for param in [1.0, 0.1, 0.01, 0.001, 0.0001]:\n",
    "    model = lm.Lasso(alpha=param, max_iter=10e5)\n",
    "    model.fit(train_features, train_labels)\n",
    "    print('Training score:', model.score(train_features, train_labels))\n",
    "    print('Testing score:', model.score(test_features, test_labels))\n",
    "    print('Coefficients used:', model.coef_)\n",
    "    \n",
    "print(linear_model.score(train_features, train_labels))\n",
    "print(linear_model.score(test_features, test_labels))"
   ]
  },
  {
   "cell_type": "markdown",
   "metadata": {},
   "source": [
    "Lasso doesn't seem to be beneficial here. Most of these values of lambda create so much sparsity it's not worth using, so we will use multiple linear regression."
   ]
  },
  {
   "cell_type": "code",
   "execution_count": 11,
   "metadata": {},
   "outputs": [
    {
     "data": {
      "image/png": "[encoded data removed]",
      "text/plain": [
       "<Figure size 432x288 with 1 Axes>"
      ]
     },
     "metadata": {
      "needs_background": "light"
     },
     "output_type": "display_data"
    }
   ],
   "source": [
    "# Make predictions\n",
    "pred_labels = linear_model.predict(test_features)\n",
    "\n",
    "plt.scatter(test_labels, pred_labels, alpha=0.5)\n",
    "plt.xlabel('2nd Half K%')\n",
    "plt.ylabel('Predicted 2nd Half K%')\n",
    "plt.title('Predicted 2nd Half K% vs. 2nd Half K%');"
   ]
  },
  {
   "cell_type": "markdown",
   "metadata": {},
   "source": [
    "We use the root mean squared error (RMSE) to assess error:\n",
    "\n",
    "$$\n",
    "\\textbf{RMSE} = \\sqrt{\\frac{1}{n}\\sum_{i=1}^n \\left( y_i - \\hat{y}_i \\right)^2 }\n",
    "$$"
   ]
  },
  {
   "cell_type": "code",
   "execution_count": 12,
   "metadata": {},
   "outputs": [],
   "source": [
    "def rmse(actual_y, predicted_y):\n",
    "    return np.sqrt(np.mean((actual_y - predicted_y)**2))"
   ]
  },
  {
   "cell_type": "code",
   "execution_count": 13,
   "metadata": {},
   "outputs": [
    {
     "name": "stdout",
     "output_type": "stream",
     "text": [
      "Training RMSE: 0.045304244517098684\n",
      "Test RMSE: 0.04800786449147468\n"
     ]
    }
   ],
   "source": [
    "train_error = rmse(train_labels, linear_model.predict(train_features))\n",
    "test_error = rmse(test_labels, linear_model.predict(test_features))\n",
    "\n",
    "print('Training RMSE:', train_error)\n",
    "print('Test RMSE:', test_error)"
   ]
  },
  {
   "cell_type": "markdown",
   "metadata": {},
   "source": [
    "Test RMSE > Training RMSE makes sense."
   ]
  },
  {
   "cell_type": "markdown",
   "metadata": {},
   "source": [
    "## Cross Validation\n",
    "\n",
    "Since we decided to use linear regression, we go through cross validation to select our features."
   ]
  },
  {
   "cell_type": "code",
   "execution_count": 14,
   "metadata": {},
   "outputs": [],
   "source": [
    "from sklearn.model_selection import KFold\n",
    "\n",
    "def compute_CV_error(model, train_features, train_labels):\n",
    "    kf = KFold(n_splits=5)\n",
    "    validation_errors = []\n",
    "    \n",
    "    for train_idx, valid_idx in kf.split(train_features):\n",
    "        # split the data\n",
    "        split_train_features, split_train_valid = train_features.iloc[train_idx, :], train_features.iloc[valid_idx, :]\n",
    "        split_train_labels, split_labels_valid = train_labels.iloc[train_idx], train_labels.iloc[valid_idx]\n",
    "\n",
    "        # Fit the model on the training split\n",
    "        linear_model.fit(split_train_features, split_train_labels)\n",
    "        \n",
    "        # Compute the RMSE on the validation split\n",
    "        error = rmse(split_labels_valid, linear_model.predict(split_train_valid))\n",
    "        \n",
    "        validation_errors.append(error)\n",
    "        \n",
    "    return np.mean(validation_errors)"
   ]
  },
  {
   "cell_type": "code",
   "execution_count": 15,
   "metadata": {},
   "outputs": [
    {
     "name": "stdout",
     "output_type": "stream",
     "text": [
      "Trying features: ['K%', 'Swing%', 'Contact%']\n",
      "\tRMSE: 0.047784495623652994\n",
      "Trying features: ['Contact%', 'GB%', 'LD%']\n",
      "\tRMSE: 0.05140452951886228\n",
      "Trying features: ['K%', 'BB%', 'xFIP']\n",
      "\tRMSE: 0.04834648759585408\n",
      "Trying features: ['Swing%', 'LD%', 'FB%']\n",
      "\tRMSE: 0.0643545386431525\n",
      "Trying features: ['K%', 'Contact%', 'LD%']\n",
      "\tRMSE: 0.04726580571370006\n",
      "['K%', 'Swing%', 'Contact%'], error: 0.047784495623652994\n",
      "['Contact%', 'GB%', 'LD%'], error: 0.05140452951886228\n",
      "['K%', 'BB%', 'xFIP'], error: 0.04834648759585408\n",
      "['Swing%', 'LD%', 'FB%'], error: 0.0643545386431525\n"
     ]
    },
    {
     "data": {
      "text/plain": [
       "(['K%', 'Contact%', 'LD%'], 0.04726580571370006)"
      ]
     },
     "execution_count": 15,
     "metadata": {},
     "output_type": "execute_result"
    }
   ],
   "source": [
    "feature_sets = [\n",
    "    ['K%', 'Swing%', 'Contact%'], \n",
    "    ['Contact%', 'GB%', 'LD%'], \n",
    "    ['K%', 'BB%', 'xFIP'], \n",
    "    ['Swing%', 'LD%', 'FB%'],\n",
    "    ['K%', 'Contact%', 'LD%']\n",
    "]\n",
    "\n",
    "errors = []\n",
    "for feat in feature_sets:\n",
    "    print('Trying features:', feat)\n",
    "    model = lm.LinearRegression()\n",
    "    error = compute_CV_error(model, train_features[feat], train_labels) # compute the cross validation error\n",
    "    print('\\tRMSE:', error)\n",
    "    errors.append(error)\n",
    "\n",
    "best_err_idx = errors.index(min(errors))\n",
    "best_err = min(errors)\n",
    "best_feature_set = feature_sets[best_err_idx]\n",
    "\n",
    "for i in range(4):\n",
    "    print('{}, error: {}'.format(feature_sets[i], errors[i]))\n",
    "\n",
    "best_feature_set, best_err"
   ]
  },
  {
   "cell_type": "markdown",
   "metadata": {},
   "source": [
    "**Note:** I know this is not the most efficient or necessarily optimal way to select your model's features. I did it this way because 1) it helps me understand what is going on, and 2) this is how I first learned cross-validation. I know there are better ways to do this using functions such as `cross_val_predict` and `SelectKBest`, but since I am relatively new to modeling, I used the approach above. (The skeleton for this algorithm was provided in one of my classes this semester. I filled in the key steps)."
   ]
  },
  {
   "cell_type": "markdown",
   "metadata": {},
   "source": [
    "## Using `SelectKBest`"
   ]
  },
  {
   "cell_type": "code",
   "execution_count": 16,
   "metadata": {},
   "outputs": [],
   "source": [
    "from sklearn.feature_selection import SelectKBest, f_regression\n",
    "\n",
    "selector = SelectKBest(f_regression, k=3)\n",
    "train_features_new = selector.fit_transform(train_features, train_labels)"
   ]
  },
  {
   "cell_type": "code",
   "execution_count": 17,
   "metadata": {},
   "outputs": [
    {
     "data": {
      "text/plain": [
       "(222, 3)"
      ]
     },
     "execution_count": 17,
     "metadata": {},
     "output_type": "execute_result"
    }
   ],
   "source": [
    "train_features_new.shape"
   ]
  },
  {
   "cell_type": "code",
   "execution_count": 18,
   "metadata": {},
   "outputs": [
    {
     "data": {
      "text/plain": [
       "['AVG', 'K%', 'Contact%']"
      ]
     },
     "execution_count": 18,
     "metadata": {},
     "output_type": "execute_result"
    }
   ],
   "source": [
    "mask = selector.get_support()\n",
    "KBest_features = []\n",
    "\n",
    "for bool, feature in zip(mask, list(train_features.columns)):\n",
    "    if bool:\n",
    "        KBest_features.append(feature)\n",
    "\n",
    "KBest_features"
   ]
  },
  {
   "cell_type": "code",
   "execution_count": 19,
   "metadata": {},
   "outputs": [
    {
     "name": "stdout",
     "output_type": "stream",
     "text": [
      "Train RMSE w/ KBest 0.04745923487639997\n",
      "Test RMSE w/ KBest 0.05172411531350999\n"
     ]
    }
   ],
   "source": [
    "linear_model_with_KBest = lm.LinearRegression()\n",
    "linear_model_with_KBest.fit(train_features[KBest_features], train_labels)\n",
    "\n",
    "train_predictions_with_KBest = linear_model_with_KBest.predict(train_features[KBest_features])\n",
    "test_predictions_with_KBest = linear_model_with_KBest.predict(test_features[KBest_features])\n",
    "\n",
    "train_rmse_with_KBest = rmse(train_labels, train_predictions_with_KBest)\n",
    "test_rmse_with_KBest = rmse(test_labels, test_predictions_with_KBest)\n",
    "\n",
    "print('Train RMSE w/ KBest', train_rmse_with_KBest)\n",
    "print('Test RMSE w/ KBest', test_rmse_with_KBest)"
   ]
  },
  {
   "cell_type": "code",
   "execution_count": 20,
   "metadata": {},
   "outputs": [
    {
     "name": "stdout",
     "output_type": "stream",
     "text": [
      "[-0.15608042  0.66803474 -0.18011837]\n",
      "0.2591241714165613\n"
     ]
    }
   ],
   "source": [
    "model_KBest = linear_model_with_KBest.fit(test_features[KBest_features], test_labels)\n",
    "\n",
    "print(model_KBest.coef_)\n",
    "print(model_KBest.intercept_)"
   ]
  },
  {
   "cell_type": "markdown",
   "metadata": {},
   "source": [
    "Our KBest model is:\n",
    "\n",
    "$\\hat{y} \\approx -0.156$**AVG**$ + 0.668$**K%**$ - 0.180$**Contact%**$ + 0.259$, where $\\hat{y}$ is predicted **2ndHalfK%**."
   ]
  },
  {
   "cell_type": "code",
   "execution_count": 21,
   "metadata": {},
   "outputs": [
    {
     "data": {
      "text/html": [
       "<div>\n",
       "<style scoped>\n",
       "    .dataframe tbody tr th:only-of-type {\n",
       "        vertical-align: middle;\n",
       "    }\n",
       "\n",
       "    .dataframe tbody tr th {\n",
       "        vertical-align: top;\n",
       "    }\n",
       "\n",
       "    .dataframe thead th {\n",
       "        text-align: right;\n",
       "    }\n",
       "</style>\n",
       "<table border=\"1\" class=\"dataframe\">\n",
       "  <thead>\n",
       "    <tr style=\"text-align: right;\">\n",
       "      <th></th>\n",
       "      <th>Name</th>\n",
       "      <th>Team</th>\n",
       "      <th>fangraphs_id</th>\n",
       "      <th>G</th>\n",
       "      <th>IP</th>\n",
       "      <th>ERA</th>\n",
       "      <th>FIP</th>\n",
       "      <th>xFIP</th>\n",
       "      <th>AVG</th>\n",
       "      <th>K%</th>\n",
       "      <th>BB%</th>\n",
       "      <th>Swing%</th>\n",
       "      <th>Contact%</th>\n",
       "      <th>GB%</th>\n",
       "      <th>LD%</th>\n",
       "      <th>FB%</th>\n",
       "      <th>predicted2ndHalfK%</th>\n",
       "      <th>2ndHalfK%</th>\n",
       "      <th>2ndHalfIP</th>\n",
       "    </tr>\n",
       "  </thead>\n",
       "  <tbody>\n",
       "    <tr>\n",
       "      <th>0</th>\n",
       "      <td>Clayton Kershaw</td>\n",
       "      <td>Dodgers</td>\n",
       "      <td>2036</td>\n",
       "      <td>19</td>\n",
       "      <td>132.1</td>\n",
       "      <td>2.18</td>\n",
       "      <td>3.02</td>\n",
       "      <td>2.76</td>\n",
       "      <td>0.194</td>\n",
       "      <td>0.314</td>\n",
       "      <td>0.044</td>\n",
       "      <td>0.508</td>\n",
       "      <td>0.731</td>\n",
       "      <td>0.453</td>\n",
       "      <td>0.197</td>\n",
       "      <td>0.350</td>\n",
       "      <td>0.307</td>\n",
       "      <td>0.249</td>\n",
       "      <td>42.2</td>\n",
       "    </tr>\n",
       "    <tr>\n",
       "      <th>1</th>\n",
       "      <td>Max Scherzer</td>\n",
       "      <td>Nationals</td>\n",
       "      <td>3137</td>\n",
       "      <td>18</td>\n",
       "      <td>128.1</td>\n",
       "      <td>2.10</td>\n",
       "      <td>2.62</td>\n",
       "      <td>3.08</td>\n",
       "      <td>0.162</td>\n",
       "      <td>0.355</td>\n",
       "      <td>0.055</td>\n",
       "      <td>0.519</td>\n",
       "      <td>0.692</td>\n",
       "      <td>0.387</td>\n",
       "      <td>0.146</td>\n",
       "      <td>0.467</td>\n",
       "      <td>0.346</td>\n",
       "      <td>0.324</td>\n",
       "      <td>72.1</td>\n",
       "    </tr>\n",
       "    <tr>\n",
       "      <th>2</th>\n",
       "      <td>Chris Sale</td>\n",
       "      <td>Red Sox</td>\n",
       "      <td>10603</td>\n",
       "      <td>18</td>\n",
       "      <td>127.2</td>\n",
       "      <td>2.75</td>\n",
       "      <td>2.10</td>\n",
       "      <td>2.67</td>\n",
       "      <td>0.198</td>\n",
       "      <td>0.359</td>\n",
       "      <td>0.044</td>\n",
       "      <td>0.513</td>\n",
       "      <td>0.684</td>\n",
       "      <td>0.363</td>\n",
       "      <td>0.218</td>\n",
       "      <td>0.419</td>\n",
       "      <td>0.345</td>\n",
       "      <td>0.366</td>\n",
       "      <td>86.2</td>\n",
       "    </tr>\n",
       "    <tr>\n",
       "      <th>3</th>\n",
       "      <td>Chris Archer</td>\n",
       "      <td>Rays</td>\n",
       "      <td>6345</td>\n",
       "      <td>19</td>\n",
       "      <td>123.0</td>\n",
       "      <td>3.95</td>\n",
       "      <td>3.17</td>\n",
       "      <td>3.44</td>\n",
       "      <td>0.245</td>\n",
       "      <td>0.285</td>\n",
       "      <td>0.074</td>\n",
       "      <td>0.469</td>\n",
       "      <td>0.719</td>\n",
       "      <td>0.422</td>\n",
       "      <td>0.224</td>\n",
       "      <td>0.354</td>\n",
       "      <td>0.282</td>\n",
       "      <td>0.303</td>\n",
       "      <td>78.0</td>\n",
       "    </tr>\n",
       "    <tr>\n",
       "      <th>4</th>\n",
       "      <td>Ivan Nova</td>\n",
       "      <td>Pirates</td>\n",
       "      <td>1994</td>\n",
       "      <td>18</td>\n",
       "      <td>120.2</td>\n",
       "      <td>3.21</td>\n",
       "      <td>4.14</td>\n",
       "      <td>4.17</td>\n",
       "      <td>0.252</td>\n",
       "      <td>0.139</td>\n",
       "      <td>0.031</td>\n",
       "      <td>0.495</td>\n",
       "      <td>0.849</td>\n",
       "      <td>0.479</td>\n",
       "      <td>0.228</td>\n",
       "      <td>0.293</td>\n",
       "      <td>0.160</td>\n",
       "      <td>0.212</td>\n",
       "      <td>66.1</td>\n",
       "    </tr>\n",
       "    <tr>\n",
       "      <th>5</th>\n",
       "      <td>Ervin Santana</td>\n",
       "      <td>Twins</td>\n",
       "      <td>3200</td>\n",
       "      <td>18</td>\n",
       "      <td>120.1</td>\n",
       "      <td>2.99</td>\n",
       "      <td>4.69</td>\n",
       "      <td>4.80</td>\n",
       "      <td>0.204</td>\n",
       "      <td>0.188</td>\n",
       "      <td>0.083</td>\n",
       "      <td>0.481</td>\n",
       "      <td>0.807</td>\n",
       "      <td>0.443</td>\n",
       "      <td>0.152</td>\n",
       "      <td>0.405</td>\n",
       "      <td>0.208</td>\n",
       "      <td>0.201</td>\n",
       "      <td>91.0</td>\n",
       "    </tr>\n",
       "    <tr>\n",
       "      <th>6</th>\n",
       "      <td>Rick Porcello</td>\n",
       "      <td>Red Sox</td>\n",
       "      <td>2717</td>\n",
       "      <td>19</td>\n",
       "      <td>119.1</td>\n",
       "      <td>4.75</td>\n",
       "      <td>4.08</td>\n",
       "      <td>4.35</td>\n",
       "      <td>0.295</td>\n",
       "      <td>0.208</td>\n",
       "      <td>0.046</td>\n",
       "      <td>0.507</td>\n",
       "      <td>0.812</td>\n",
       "      <td>0.378</td>\n",
       "      <td>0.215</td>\n",
       "      <td>0.407</td>\n",
       "      <td>0.206</td>\n",
       "      <td>0.200</td>\n",
       "      <td>84.0</td>\n",
       "    </tr>\n",
       "    <tr>\n",
       "      <th>7</th>\n",
       "      <td>Yu Darvish</td>\n",
       "      <td>Rangers</td>\n",
       "      <td>13074</td>\n",
       "      <td>19</td>\n",
       "      <td>118.2</td>\n",
       "      <td>3.49</td>\n",
       "      <td>3.86</td>\n",
       "      <td>3.92</td>\n",
       "      <td>0.213</td>\n",
       "      <td>0.259</td>\n",
       "      <td>0.085</td>\n",
       "      <td>0.462</td>\n",
       "      <td>0.758</td>\n",
       "      <td>0.403</td>\n",
       "      <td>0.229</td>\n",
       "      <td>0.368</td>\n",
       "      <td>0.262</td>\n",
       "      <td>0.297</td>\n",
       "      <td>68.0</td>\n",
       "    </tr>\n",
       "    <tr>\n",
       "      <th>8</th>\n",
       "      <td>Jeff Samardzija</td>\n",
       "      <td>Giants</td>\n",
       "      <td>3254</td>\n",
       "      <td>18</td>\n",
       "      <td>118.0</td>\n",
       "      <td>4.58</td>\n",
       "      <td>3.45</td>\n",
       "      <td>3.09</td>\n",
       "      <td>0.261</td>\n",
       "      <td>0.262</td>\n",
       "      <td>0.029</td>\n",
       "      <td>0.494</td>\n",
       "      <td>0.787</td>\n",
       "      <td>0.432</td>\n",
       "      <td>0.247</td>\n",
       "      <td>0.321</td>\n",
       "      <td>0.252</td>\n",
       "      <td>0.216</td>\n",
       "      <td>89.2</td>\n",
       "    </tr>\n",
       "    <tr>\n",
       "      <th>9</th>\n",
       "      <td>Zack Greinke</td>\n",
       "      <td>Diamondbacks</td>\n",
       "      <td>1943</td>\n",
       "      <td>18</td>\n",
       "      <td>116.1</td>\n",
       "      <td>2.86</td>\n",
       "      <td>3.17</td>\n",
       "      <td>3.13</td>\n",
       "      <td>0.214</td>\n",
       "      <td>0.287</td>\n",
       "      <td>0.050</td>\n",
       "      <td>0.462</td>\n",
       "      <td>0.708</td>\n",
       "      <td>0.466</td>\n",
       "      <td>0.174</td>\n",
       "      <td>0.359</td>\n",
       "      <td>0.290</td>\n",
       "      <td>0.244</td>\n",
       "      <td>86.0</td>\n",
       "    </tr>\n",
       "  </tbody>\n",
       "</table>\n",
       "</div>"
      ],
      "text/plain": [
       "              Name          Team  fangraphs_id   G     IP   ERA   FIP  xFIP  \\\n",
       "0  Clayton Kershaw       Dodgers          2036  19  132.1  2.18  3.02  2.76   \n",
       "1     Max Scherzer     Nationals          3137  18  128.1  2.10  2.62  3.08   \n",
       "2       Chris Sale       Red Sox         10603  18  127.2  2.75  2.10  2.67   \n",
       "3     Chris Archer          Rays          6345  19  123.0  3.95  3.17  3.44   \n",
       "4        Ivan Nova       Pirates          1994  18  120.2  3.21  4.14  4.17   \n",
       "5    Ervin Santana         Twins          3200  18  120.1  2.99  4.69  4.80   \n",
       "6    Rick Porcello       Red Sox          2717  19  119.1  4.75  4.08  4.35   \n",
       "7       Yu Darvish       Rangers         13074  19  118.2  3.49  3.86  3.92   \n",
       "8  Jeff Samardzija        Giants          3254  18  118.0  4.58  3.45  3.09   \n",
       "9     Zack Greinke  Diamondbacks          1943  18  116.1  2.86  3.17  3.13   \n",
       "\n",
       "     AVG     K%    BB%  Swing%  Contact%    GB%    LD%    FB%  \\\n",
       "0  0.194  0.314  0.044   0.508     0.731  0.453  0.197  0.350   \n",
       "1  0.162  0.355  0.055   0.519     0.692  0.387  0.146  0.467   \n",
       "2  0.198  0.359  0.044   0.513     0.684  0.363  0.218  0.419   \n",
       "3  0.245  0.285  0.074   0.469     0.719  0.422  0.224  0.354   \n",
       "4  0.252  0.139  0.031   0.495     0.849  0.479  0.228  0.293   \n",
       "5  0.204  0.188  0.083   0.481     0.807  0.443  0.152  0.405   \n",
       "6  0.295  0.208  0.046   0.507     0.812  0.378  0.215  0.407   \n",
       "7  0.213  0.259  0.085   0.462     0.758  0.403  0.229  0.368   \n",
       "8  0.261  0.262  0.029   0.494     0.787  0.432  0.247  0.321   \n",
       "9  0.214  0.287  0.050   0.462     0.708  0.466  0.174  0.359   \n",
       "\n",
       "   predicted2ndHalfK%  2ndHalfK%  2ndHalfIP  \n",
       "0               0.307      0.249       42.2  \n",
       "1               0.346      0.324       72.1  \n",
       "2               0.345      0.366       86.2  \n",
       "3               0.282      0.303       78.0  \n",
       "4               0.160      0.212       66.1  \n",
       "5               0.208      0.201       91.0  \n",
       "6               0.206      0.200       84.0  \n",
       "7               0.262      0.297       68.0  \n",
       "8               0.252      0.216       89.2  \n",
       "9               0.290      0.244       86.0  "
      ]
     },
     "execution_count": 21,
     "metadata": {},
     "output_type": "execute_result"
    }
   ],
   "source": [
    "# Adding a column: \n",
    "dat2 = dat\n",
    "dat2['predicted2ndHalfK%'] = round(-0.156*dat['AVG'] + 0.668*dat['K%'] - 0.180*dat['Contact%'] + 0.259, 3)\n",
    "new_order = [0,1,2,3,4,5,6,7,8,9,10,11,12,13,14,15,18,16,17]\n",
    "dat2 = dat2[dat.columns[new_order]]\n",
    "dat2.head(10)"
   ]
  },
  {
   "cell_type": "markdown",
   "metadata": {},
   "source": [
    "## Using `cross_val_predict`"
   ]
  },
  {
   "cell_type": "code",
   "execution_count": 22,
   "metadata": {},
   "outputs": [
    {
     "name": "stdout",
     "output_type": "stream",
     "text": [
      "[0.04057104 0.05333414 0.05361779 0.04789152 0.05292075]\n",
      "[0.49109731 0.52544615 0.53837736 0.45096316 0.55121623]\n"
     ]
    }
   ],
   "source": [
    "from sklearn.model_selection import cross_validate\n",
    "\n",
    "lm_with_cv = lm.LinearRegression()\n",
    "y_pred_with_cv = cross_validate(lm_with_cv, \n",
    "                                train_features, train_labels, \n",
    "                                cv=5, \n",
    "                                scoring=('r2', 'neg_mean_squared_error'), \n",
    "                                return_train_score=True)\n",
    "print(np.sqrt(abs(np.array(y_pred_with_cv['test_neg_mean_squared_error']))))\n",
    "print(y_pred_with_cv['train_r2'])"
   ]
  },
  {
   "cell_type": "markdown",
   "metadata": {},
   "source": [
    "## Using best feature set to define our final model + Calculating error"
   ]
  },
  {
   "cell_type": "code",
   "execution_count": 23,
   "metadata": {},
   "outputs": [
    {
     "name": "stdout",
     "output_type": "stream",
     "text": [
      "Train RMSE 0.04700995662907964\n",
      "KFold Validation RMSE 0.04726580571370006\n",
      "Test RMSE 0.05069458162196552\n"
     ]
    }
   ],
   "source": [
    "# Fitting my model using the best features\n",
    "linear_model.fit(train_features[best_feature_set], train_labels)\n",
    "\n",
    "train_predictions = linear_model.predict(train_features[best_feature_set])\n",
    "test_predictions = linear_model.predict(test_features[best_feature_set])\n",
    "\n",
    "# Predict points from our test set and calculate the mse\n",
    "train_rmse = rmse(train_labels, train_predictions)\n",
    "test_rmse = rmse(test_labels, test_predictions)\n",
    "\n",
    "print('Train RMSE', train_rmse)\n",
    "print('KFold Validation RMSE', best_err)\n",
    "print('Test RMSE', test_rmse)"
   ]
  },
  {
   "cell_type": "markdown",
   "metadata": {},
   "source": [
    "Our predictions are good!"
   ]
  },
  {
   "cell_type": "markdown",
   "metadata": {},
   "source": [
    "# Residual Plot"
   ]
  },
  {
   "cell_type": "code",
   "execution_count": 24,
   "metadata": {},
   "outputs": [
    {
     "data": {
      "image/png": "[encoded data removed]",
      "text/plain": [
       "<Figure size 432x288 with 1 Axes>"
      ]
     },
     "metadata": {
      "needs_background": "light"
     },
     "output_type": "display_data"
    }
   ],
   "source": [
    "# Exam residuals for each record from the test set.\n",
    "model = model.fit(test_features[best_feature_set], test_labels)\n",
    "\n",
    "plt.scatter(np.arange(len(test_features)), test_labels - model.predict(test_features[best_feature_set]))\n",
    "plt.xlabel('x')\n",
    "plt.ylabel('residual')\n",
    "plt.title('Residual vs. x for Linear Model')\n",
    "plt.axhline(y = 0, color='r');"
   ]
  },
  {
   "cell_type": "markdown",
   "metadata": {},
   "source": [
    "Points are randomly scattered around y = 0, meaning a linear regression model is a good choice for the data we have."
   ]
  },
  {
   "cell_type": "markdown",
   "metadata": {},
   "source": [
    "## Our Final Model + Comments"
   ]
  },
  {
   "cell_type": "code",
   "execution_count": 25,
   "metadata": {},
   "outputs": [
    {
     "name": "stdout",
     "output_type": "stream",
     "text": [
      "[ 0.65867993 -0.30468051  0.37600374]\n",
      "0.2454026729111662\n"
     ]
    }
   ],
   "source": [
    "print(model.coef_)\n",
    "print(model.intercept_)"
   ]
  },
  {
   "cell_type": "markdown",
   "metadata": {},
   "source": [
    "Our final model is:\n",
    "\n",
    "$\\hat{y} \\approx 0.659$**K%**$ - 0.305$**Contact%**$ + 0.376$**LD%**$ + 0.245$, where $\\hat{y}$ is predicted **2ndHalfK%**. \n",
    "\n",
    "We note that the negative coefficient here corresponds to Contact%, which makes sense, since an increase in Contact% means a decrease in strikeout percentage. It is not surprising K% is an important predictor, but LD% is a bit surprising. This would be worth investigating further since the less hard a pitcher is getting hit, the better he is. Unfortunately I don't really have time to look into this, but I suspect that our choice of feature_sets to test for cross validation might not be optimal. As a possible solution, when we cross validate, we could define feature_sets to include all ${13\\choose 3}$ possible 3-feature subsets of our 13 features. Overall though, our model is useful, which is what we want!"
   ]
  },
  {
   "cell_type": "code",
   "execution_count": 26,
   "metadata": {},
   "outputs": [
    {
     "data": {
      "text/html": [
       "<div>\n",
       "<style scoped>\n",
       "    .dataframe tbody tr th:only-of-type {\n",
       "        vertical-align: middle;\n",
       "    }\n",
       "\n",
       "    .dataframe tbody tr th {\n",
       "        vertical-align: top;\n",
       "    }\n",
       "\n",
       "    .dataframe thead th {\n",
       "        text-align: right;\n",
       "    }\n",
       "</style>\n",
       "<table border=\"1\" class=\"dataframe\">\n",
       "  <thead>\n",
       "    <tr style=\"text-align: right;\">\n",
       "      <th></th>\n",
       "      <th>Name</th>\n",
       "      <th>Team</th>\n",
       "      <th>fangraphs_id</th>\n",
       "      <th>G</th>\n",
       "      <th>IP</th>\n",
       "      <th>ERA</th>\n",
       "      <th>FIP</th>\n",
       "      <th>xFIP</th>\n",
       "      <th>AVG</th>\n",
       "      <th>K%</th>\n",
       "      <th>BB%</th>\n",
       "      <th>Swing%</th>\n",
       "      <th>Contact%</th>\n",
       "      <th>GB%</th>\n",
       "      <th>LD%</th>\n",
       "      <th>FB%</th>\n",
       "      <th>2ndHalfK%</th>\n",
       "      <th>2ndHalfIP</th>\n",
       "      <th>predicted2ndHalfK%</th>\n",
       "    </tr>\n",
       "  </thead>\n",
       "  <tbody>\n",
       "    <tr>\n",
       "      <th>0</th>\n",
       "      <td>Clayton Kershaw</td>\n",
       "      <td>Dodgers</td>\n",
       "      <td>2036</td>\n",
       "      <td>19</td>\n",
       "      <td>132.1</td>\n",
       "      <td>2.18</td>\n",
       "      <td>3.02</td>\n",
       "      <td>2.76</td>\n",
       "      <td>0.194</td>\n",
       "      <td>0.314</td>\n",
       "      <td>0.044</td>\n",
       "      <td>0.508</td>\n",
       "      <td>0.731</td>\n",
       "      <td>0.453</td>\n",
       "      <td>0.197</td>\n",
       "      <td>0.350</td>\n",
       "      <td>0.249</td>\n",
       "      <td>42.2</td>\n",
       "      <td>0.307</td>\n",
       "    </tr>\n",
       "    <tr>\n",
       "      <th>1</th>\n",
       "      <td>Max Scherzer</td>\n",
       "      <td>Nationals</td>\n",
       "      <td>3137</td>\n",
       "      <td>18</td>\n",
       "      <td>128.1</td>\n",
       "      <td>2.10</td>\n",
       "      <td>2.62</td>\n",
       "      <td>3.08</td>\n",
       "      <td>0.162</td>\n",
       "      <td>0.355</td>\n",
       "      <td>0.055</td>\n",
       "      <td>0.519</td>\n",
       "      <td>0.692</td>\n",
       "      <td>0.387</td>\n",
       "      <td>0.146</td>\n",
       "      <td>0.467</td>\n",
       "      <td>0.324</td>\n",
       "      <td>72.1</td>\n",
       "      <td>0.346</td>\n",
       "    </tr>\n",
       "    <tr>\n",
       "      <th>2</th>\n",
       "      <td>Chris Sale</td>\n",
       "      <td>Red Sox</td>\n",
       "      <td>10603</td>\n",
       "      <td>18</td>\n",
       "      <td>127.2</td>\n",
       "      <td>2.75</td>\n",
       "      <td>2.10</td>\n",
       "      <td>2.67</td>\n",
       "      <td>0.198</td>\n",
       "      <td>0.359</td>\n",
       "      <td>0.044</td>\n",
       "      <td>0.513</td>\n",
       "      <td>0.684</td>\n",
       "      <td>0.363</td>\n",
       "      <td>0.218</td>\n",
       "      <td>0.419</td>\n",
       "      <td>0.366</td>\n",
       "      <td>86.2</td>\n",
       "      <td>0.345</td>\n",
       "    </tr>\n",
       "  </tbody>\n",
       "</table>\n",
       "</div>"
      ],
      "text/plain": [
       "              Name       Team  fangraphs_id   G     IP   ERA   FIP  xFIP  \\\n",
       "0  Clayton Kershaw    Dodgers          2036  19  132.1  2.18  3.02  2.76   \n",
       "1     Max Scherzer  Nationals          3137  18  128.1  2.10  2.62  3.08   \n",
       "2       Chris Sale    Red Sox         10603  18  127.2  2.75  2.10  2.67   \n",
       "\n",
       "     AVG     K%    BB%  Swing%  Contact%    GB%    LD%    FB%  2ndHalfK%  \\\n",
       "0  0.194  0.314  0.044   0.508     0.731  0.453  0.197  0.350      0.249   \n",
       "1  0.162  0.355  0.055   0.519     0.692  0.387  0.146  0.467      0.324   \n",
       "2  0.198  0.359  0.044   0.513     0.684  0.363  0.218  0.419      0.366   \n",
       "\n",
       "   2ndHalfIP  predicted2ndHalfK%  \n",
       "0       42.2               0.307  \n",
       "1       72.1               0.346  \n",
       "2       86.2               0.345  "
      ]
     },
     "execution_count": 26,
     "metadata": {},
     "output_type": "execute_result"
    }
   ],
   "source": [
    "dat.head(3)"
   ]
  },
  {
   "cell_type": "markdown",
   "metadata": {},
   "source": [
    "If we look back at our original data for fun, we might look at our prediction for the first 3 pitchers (who all are traditionally huge strikeout guys):"
   ]
  },
  {
   "cell_type": "code",
   "execution_count": 27,
   "metadata": {},
   "outputs": [
    {
     "name": "stdout",
     "output_type": "stream",
     "text": [
      "KERSHAW: Predicted 0.303 Actual 0.249\n",
      "SCHERZER: Predicted 0.323 Actual 0.324\n",
      "SALE: Predicted 0.355 Actual 0.366\n"
     ]
    }
   ],
   "source": [
    "# We predict Clayton Kershaw's 2017 2nd Half K% to be:\n",
    "val = 0.659*.314 - 0.305*.731 + 0.376*0.197 + 0.245\n",
    "print('KERSHAW: Predicted', round(val, 3), 'Actual', 0.249)\n",
    "\n",
    "# We predict Max Scherzer's 2017 2nd Half K% to be:\n",
    "val2 = 0.659*0.355 - 0.305*0.692 + 0.376*.146 + 0.245\n",
    "print('SCHERZER: Predicted', round(val2, 3), 'Actual', 0.324)\n",
    "\n",
    "# We predict Chris Sale's 2017 2nd Half K% to be:\n",
    "val3 = 0.659*.359 - 0.305*.684 + 0.376*.218 + 0.245\n",
    "print('SALE: Predicted', round(val3, 3), 'Actual', 0.366)"
   ]
  },
  {
   "cell_type": "markdown",
   "metadata": {},
   "source": [
    "Not bad! We know that in 2017, Kershaw got hurt in late July and missed all of August due to a back issue, which has hurt his strikeout numbers significantly. We can also use the '2ndHalfIP' column to check for things like this. This explains why our prediction for him is off. For Scherzer and Sale, our model does a good job."
   ]
  },
  {
   "cell_type": "code",
   "execution_count": 28,
   "metadata": {
    "scrolled": true
   },
   "outputs": [
    {
     "data": {
      "text/html": [
       "<div>\n",
       "<style scoped>\n",
       "    .dataframe tbody tr th:only-of-type {\n",
       "        vertical-align: middle;\n",
       "    }\n",
       "\n",
       "    .dataframe tbody tr th {\n",
       "        vertical-align: top;\n",
       "    }\n",
       "\n",
       "    .dataframe thead th {\n",
       "        text-align: right;\n",
       "    }\n",
       "</style>\n",
       "<table border=\"1\" class=\"dataframe\">\n",
       "  <thead>\n",
       "    <tr style=\"text-align: right;\">\n",
       "      <th></th>\n",
       "      <th>Name</th>\n",
       "      <th>Team</th>\n",
       "      <th>fangraphs_id</th>\n",
       "      <th>G</th>\n",
       "      <th>IP</th>\n",
       "      <th>ERA</th>\n",
       "      <th>FIP</th>\n",
       "      <th>xFIP</th>\n",
       "      <th>AVG</th>\n",
       "      <th>K%</th>\n",
       "      <th>BB%</th>\n",
       "      <th>Swing%</th>\n",
       "      <th>Contact%</th>\n",
       "      <th>GB%</th>\n",
       "      <th>LD%</th>\n",
       "      <th>FB%</th>\n",
       "      <th>predicted2ndHalfK%</th>\n",
       "      <th>2ndHalfK%</th>\n",
       "      <th>2ndHalfIP</th>\n",
       "    </tr>\n",
       "  </thead>\n",
       "  <tbody>\n",
       "    <tr>\n",
       "      <th>291</th>\n",
       "      <td>Daniel Gossett</td>\n",
       "      <td>Athletics</td>\n",
       "      <td>16164</td>\n",
       "      <td>6</td>\n",
       "      <td>30.1</td>\n",
       "      <td>6.23</td>\n",
       "      <td>5.76</td>\n",
       "      <td>4.15</td>\n",
       "      <td>0.292</td>\n",
       "      <td>0.148</td>\n",
       "      <td>0.037</td>\n",
       "      <td>0.464</td>\n",
       "      <td>0.829</td>\n",
       "      <td>0.477</td>\n",
       "      <td>0.239</td>\n",
       "      <td>0.284</td>\n",
       "      <td>0.180</td>\n",
       "      <td>0.186</td>\n",
       "      <td>61.0</td>\n",
       "    </tr>\n",
       "    <tr>\n",
       "      <th>292</th>\n",
       "      <td>Wade Davis</td>\n",
       "      <td>Cubs</td>\n",
       "      <td>7441</td>\n",
       "      <td>31</td>\n",
       "      <td>30.0</td>\n",
       "      <td>1.80</td>\n",
       "      <td>2.02</td>\n",
       "      <td>2.90</td>\n",
       "      <td>0.168</td>\n",
       "      <td>0.358</td>\n",
       "      <td>0.100</td>\n",
       "      <td>0.472</td>\n",
       "      <td>0.702</td>\n",
       "      <td>0.397</td>\n",
       "      <td>0.254</td>\n",
       "      <td>0.349</td>\n",
       "      <td>0.362</td>\n",
       "      <td>0.295</td>\n",
       "      <td>28.2</td>\n",
       "    </tr>\n",
       "    <tr>\n",
       "      <th>293</th>\n",
       "      <td>Andrew Chafin</td>\n",
       "      <td>Diamondbacks</td>\n",
       "      <td>12988</td>\n",
       "      <td>40</td>\n",
       "      <td>30.0</td>\n",
       "      <td>1.80</td>\n",
       "      <td>1.92</td>\n",
       "      <td>2.20</td>\n",
       "      <td>0.198</td>\n",
       "      <td>0.331</td>\n",
       "      <td>0.083</td>\n",
       "      <td>0.425</td>\n",
       "      <td>0.742</td>\n",
       "      <td>0.614</td>\n",
       "      <td>0.214</td>\n",
       "      <td>0.171</td>\n",
       "      <td>0.317</td>\n",
       "      <td>0.210</td>\n",
       "      <td>21.1</td>\n",
       "    </tr>\n",
       "    <tr>\n",
       "      <th>294</th>\n",
       "      <td>Jarlin Garcia</td>\n",
       "      <td>Marlins</td>\n",
       "      <td>18282</td>\n",
       "      <td>39</td>\n",
       "      <td>30.0</td>\n",
       "      <td>3.60</td>\n",
       "      <td>4.16</td>\n",
       "      <td>4.74</td>\n",
       "      <td>0.182</td>\n",
       "      <td>0.217</td>\n",
       "      <td>0.067</td>\n",
       "      <td>0.469</td>\n",
       "      <td>0.740</td>\n",
       "      <td>0.349</td>\n",
       "      <td>0.181</td>\n",
       "      <td>0.470</td>\n",
       "      <td>0.230</td>\n",
       "      <td>0.152</td>\n",
       "      <td>23.1</td>\n",
       "    </tr>\n",
       "    <tr>\n",
       "      <th>295</th>\n",
       "      <td>Jose Alvarez</td>\n",
       "      <td>Angels</td>\n",
       "      <td>5358</td>\n",
       "      <td>40</td>\n",
       "      <td>30.0</td>\n",
       "      <td>5.40</td>\n",
       "      <td>4.56</td>\n",
       "      <td>4.27</td>\n",
       "      <td>0.261</td>\n",
       "      <td>0.216</td>\n",
       "      <td>0.048</td>\n",
       "      <td>0.503</td>\n",
       "      <td>0.797</td>\n",
       "      <td>0.352</td>\n",
       "      <td>0.220</td>\n",
       "      <td>0.429</td>\n",
       "      <td>0.227</td>\n",
       "      <td>0.231</td>\n",
       "      <td>18.2</td>\n",
       "    </tr>\n",
       "  </tbody>\n",
       "</table>\n",
       "</div>"
      ],
      "text/plain": [
       "               Name          Team  fangraphs_id   G    IP   ERA   FIP  xFIP  \\\n",
       "291  Daniel Gossett     Athletics         16164   6  30.1  6.23  5.76  4.15   \n",
       "292      Wade Davis          Cubs          7441  31  30.0  1.80  2.02  2.90   \n",
       "293   Andrew Chafin  Diamondbacks         12988  40  30.0  1.80  1.92  2.20   \n",
       "294   Jarlin Garcia       Marlins         18282  39  30.0  3.60  4.16  4.74   \n",
       "295    Jose Alvarez        Angels          5358  40  30.0  5.40  4.56  4.27   \n",
       "\n",
       "       AVG     K%    BB%  Swing%  Contact%    GB%    LD%    FB%  \\\n",
       "291  0.292  0.148  0.037   0.464     0.829  0.477  0.239  0.284   \n",
       "292  0.168  0.358  0.100   0.472     0.702  0.397  0.254  0.349   \n",
       "293  0.198  0.331  0.083   0.425     0.742  0.614  0.214  0.171   \n",
       "294  0.182  0.217  0.067   0.469     0.740  0.349  0.181  0.470   \n",
       "295  0.261  0.216  0.048   0.503     0.797  0.352  0.220  0.429   \n",
       "\n",
       "     predicted2ndHalfK%  2ndHalfK%  2ndHalfIP  \n",
       "291               0.180      0.186       61.0  \n",
       "292               0.362      0.295       28.2  \n",
       "293               0.317      0.210       21.1  \n",
       "294               0.230      0.152       23.1  \n",
       "295               0.227      0.231       18.2  "
      ]
     },
     "execution_count": 28,
     "metadata": {},
     "output_type": "execute_result"
    }
   ],
   "source": [
    "# We can also add a new column to see predictions for everyone in our data set:\n",
    "dat['predicted2ndHalfK%'] = round(0.659*dat['K%'] - 0.305*dat['Contact%'] + 0.376*dat['LD%'] + 0.245, 3)\n",
    "new_order = [0,1,2,3,4,5,6,7,8,9,10,11,12,13,14,15,18,16,17]\n",
    "dat = dat[dat.columns[new_order]]\n",
    "dat.tail(5)"
   ]
  },
  {
   "cell_type": "code",
   "execution_count": 29,
   "metadata": {
    "scrolled": true
   },
   "outputs": [
    {
     "data": {
      "text/html": [
       "<div>\n",
       "<style scoped>\n",
       "    .dataframe tbody tr th:only-of-type {\n",
       "        vertical-align: middle;\n",
       "    }\n",
       "\n",
       "    .dataframe tbody tr th {\n",
       "        vertical-align: top;\n",
       "    }\n",
       "\n",
       "    .dataframe thead th {\n",
       "        text-align: right;\n",
       "    }\n",
       "</style>\n",
       "<table border=\"1\" class=\"dataframe\">\n",
       "  <thead>\n",
       "    <tr style=\"text-align: right;\">\n",
       "      <th></th>\n",
       "      <th>Name</th>\n",
       "      <th>Team</th>\n",
       "      <th>fangraphs_id</th>\n",
       "      <th>G</th>\n",
       "      <th>IP</th>\n",
       "      <th>ERA</th>\n",
       "      <th>FIP</th>\n",
       "      <th>xFIP</th>\n",
       "      <th>AVG</th>\n",
       "      <th>K%</th>\n",
       "      <th>BB%</th>\n",
       "      <th>Swing%</th>\n",
       "      <th>Contact%</th>\n",
       "      <th>GB%</th>\n",
       "      <th>LD%</th>\n",
       "      <th>FB%</th>\n",
       "      <th>predicted2ndHalfK%</th>\n",
       "      <th>2ndHalfK%</th>\n",
       "      <th>2ndHalfIP</th>\n",
       "    </tr>\n",
       "  </thead>\n",
       "  <tbody>\n",
       "    <tr>\n",
       "      <th>291</th>\n",
       "      <td>Daniel Gossett</td>\n",
       "      <td>Athletics</td>\n",
       "      <td>16164</td>\n",
       "      <td>6</td>\n",
       "      <td>30.1</td>\n",
       "      <td>6.23</td>\n",
       "      <td>5.76</td>\n",
       "      <td>4.15</td>\n",
       "      <td>0.292</td>\n",
       "      <td>0.148</td>\n",
       "      <td>0.037</td>\n",
       "      <td>0.464</td>\n",
       "      <td>0.829</td>\n",
       "      <td>0.477</td>\n",
       "      <td>0.239</td>\n",
       "      <td>0.284</td>\n",
       "      <td>0.163</td>\n",
       "      <td>0.186</td>\n",
       "      <td>61.0</td>\n",
       "    </tr>\n",
       "    <tr>\n",
       "      <th>292</th>\n",
       "      <td>Wade Davis</td>\n",
       "      <td>Cubs</td>\n",
       "      <td>7441</td>\n",
       "      <td>31</td>\n",
       "      <td>30.0</td>\n",
       "      <td>1.80</td>\n",
       "      <td>2.02</td>\n",
       "      <td>2.90</td>\n",
       "      <td>0.168</td>\n",
       "      <td>0.358</td>\n",
       "      <td>0.100</td>\n",
       "      <td>0.472</td>\n",
       "      <td>0.702</td>\n",
       "      <td>0.397</td>\n",
       "      <td>0.254</td>\n",
       "      <td>0.349</td>\n",
       "      <td>0.346</td>\n",
       "      <td>0.295</td>\n",
       "      <td>28.2</td>\n",
       "    </tr>\n",
       "    <tr>\n",
       "      <th>293</th>\n",
       "      <td>Andrew Chafin</td>\n",
       "      <td>Diamondbacks</td>\n",
       "      <td>12988</td>\n",
       "      <td>40</td>\n",
       "      <td>30.0</td>\n",
       "      <td>1.80</td>\n",
       "      <td>1.92</td>\n",
       "      <td>2.20</td>\n",
       "      <td>0.198</td>\n",
       "      <td>0.331</td>\n",
       "      <td>0.083</td>\n",
       "      <td>0.425</td>\n",
       "      <td>0.742</td>\n",
       "      <td>0.614</td>\n",
       "      <td>0.214</td>\n",
       "      <td>0.171</td>\n",
       "      <td>0.316</td>\n",
       "      <td>0.210</td>\n",
       "      <td>21.1</td>\n",
       "    </tr>\n",
       "    <tr>\n",
       "      <th>294</th>\n",
       "      <td>Jarlin Garcia</td>\n",
       "      <td>Marlins</td>\n",
       "      <td>18282</td>\n",
       "      <td>39</td>\n",
       "      <td>30.0</td>\n",
       "      <td>3.60</td>\n",
       "      <td>4.16</td>\n",
       "      <td>4.74</td>\n",
       "      <td>0.182</td>\n",
       "      <td>0.217</td>\n",
       "      <td>0.067</td>\n",
       "      <td>0.469</td>\n",
       "      <td>0.740</td>\n",
       "      <td>0.349</td>\n",
       "      <td>0.181</td>\n",
       "      <td>0.470</td>\n",
       "      <td>0.242</td>\n",
       "      <td>0.152</td>\n",
       "      <td>23.1</td>\n",
       "    </tr>\n",
       "    <tr>\n",
       "      <th>295</th>\n",
       "      <td>Jose Alvarez</td>\n",
       "      <td>Angels</td>\n",
       "      <td>5358</td>\n",
       "      <td>40</td>\n",
       "      <td>30.0</td>\n",
       "      <td>5.40</td>\n",
       "      <td>4.56</td>\n",
       "      <td>4.27</td>\n",
       "      <td>0.261</td>\n",
       "      <td>0.216</td>\n",
       "      <td>0.048</td>\n",
       "      <td>0.503</td>\n",
       "      <td>0.797</td>\n",
       "      <td>0.352</td>\n",
       "      <td>0.220</td>\n",
       "      <td>0.429</td>\n",
       "      <td>0.219</td>\n",
       "      <td>0.231</td>\n",
       "      <td>18.2</td>\n",
       "    </tr>\n",
       "  </tbody>\n",
       "</table>\n",
       "</div>"
      ],
      "text/plain": [
       "               Name          Team  fangraphs_id   G    IP   ERA   FIP  xFIP  \\\n",
       "291  Daniel Gossett     Athletics         16164   6  30.1  6.23  5.76  4.15   \n",
       "292      Wade Davis          Cubs          7441  31  30.0  1.80  2.02  2.90   \n",
       "293   Andrew Chafin  Diamondbacks         12988  40  30.0  1.80  1.92  2.20   \n",
       "294   Jarlin Garcia       Marlins         18282  39  30.0  3.60  4.16  4.74   \n",
       "295    Jose Alvarez        Angels          5358  40  30.0  5.40  4.56  4.27   \n",
       "\n",
       "       AVG     K%    BB%  Swing%  Contact%    GB%    LD%    FB%  \\\n",
       "291  0.292  0.148  0.037   0.464     0.829  0.477  0.239  0.284   \n",
       "292  0.168  0.358  0.100   0.472     0.702  0.397  0.254  0.349   \n",
       "293  0.198  0.331  0.083   0.425     0.742  0.614  0.214  0.171   \n",
       "294  0.182  0.217  0.067   0.469     0.740  0.349  0.181  0.470   \n",
       "295  0.261  0.216  0.048   0.503     0.797  0.352  0.220  0.429   \n",
       "\n",
       "     predicted2ndHalfK%  2ndHalfK%  2ndHalfIP  \n",
       "291               0.163      0.186       61.0  \n",
       "292               0.346      0.295       28.2  \n",
       "293               0.316      0.210       21.1  \n",
       "294               0.242      0.152       23.1  \n",
       "295               0.219      0.231       18.2  "
      ]
     },
     "execution_count": 29,
     "metadata": {},
     "output_type": "execute_result"
    }
   ],
   "source": [
    "dat2.tail(5)"
   ]
  },
  {
   "cell_type": "code",
   "execution_count": 30,
   "metadata": {},
   "outputs": [
    {
     "name": "stdout",
     "output_type": "stream",
     "text": [
      "11.368999999999994\n",
      "11.651\n"
     ]
    }
   ],
   "source": [
    "print(sum(abs(dat['predicted2ndHalfK%']-dat['2ndHalfK%'])))\n",
    "print(sum(abs(dat2['predicted2ndHalfK%']-dat2['2ndHalfK%'])))"
   ]
  }
 ],
 "metadata": {
  "kernelspec": {
   "display_name": "Python (conda)",
   "language": "python",
   "name": "myenv"
  },
  "language_info": {
   "codemirror_mode": {
    "name": "ipython",
    "version": 3
   },
   "file_extension": ".py",
   "mimetype": "text/x-python",
   "name": "python",
   "nbconvert_exporter": "python",
   "pygments_lexer": "ipython3",
   "version": "3.7.0"
  }
 },
 "nbformat": 4,
 "nbformat_minor": 2
}
